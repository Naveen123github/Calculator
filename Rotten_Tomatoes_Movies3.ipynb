{
  "nbformat": 4,
  "nbformat_minor": 0,
  "metadata": {
    "colab": {
      "provenance": [],
      "gpuType": "T4",
      "include_colab_link": true
    },
    "kernelspec": {
      "name": "python3",
      "display_name": "Python 3"
    },
    "language_info": {
      "name": "python"
    },
    "accelerator": "GPU"
  },
  "cells": [
    {
      "cell_type": "markdown",
      "metadata": {
        "id": "view-in-github",
        "colab_type": "text"
      },
      "source": [
        "<a href=\"https://colab.research.google.com/github/Naveen123github/Calculator/blob/master/Rotten_Tomatoes_Movies3.ipynb\" target=\"_parent\"><img src=\"https://colab.research.google.com/assets/colab-badge.svg\" alt=\"Open In Colab\"/></a>"
      ]
    },
    {
      "cell_type": "code",
      "source": [
        "!pip install pandas openpyxl"
      ],
      "metadata": {
        "colab": {
          "base_uri": "https://localhost:8080/"
        },
        "id": "6bMgoU9WMnjc",
        "outputId": "960e7c37-b500-4998-f5a8-6d89122cf8b8"
      },
      "execution_count": null,
      "outputs": [
        {
          "output_type": "stream",
          "name": "stdout",
          "text": [
            "Requirement already satisfied: pandas in /usr/local/lib/python3.10/dist-packages (2.2.2)\n",
            "Requirement already satisfied: openpyxl in /usr/local/lib/python3.10/dist-packages (3.1.5)\n",
            "Requirement already satisfied: numpy>=1.22.4 in /usr/local/lib/python3.10/dist-packages (from pandas) (1.26.4)\n",
            "Requirement already satisfied: python-dateutil>=2.8.2 in /usr/local/lib/python3.10/dist-packages (from pandas) (2.8.2)\n",
            "Requirement already satisfied: pytz>=2020.1 in /usr/local/lib/python3.10/dist-packages (from pandas) (2024.2)\n",
            "Requirement already satisfied: tzdata>=2022.7 in /usr/local/lib/python3.10/dist-packages (from pandas) (2024.2)\n",
            "Requirement already satisfied: et-xmlfile in /usr/local/lib/python3.10/dist-packages (from openpyxl) (2.0.0)\n",
            "Requirement already satisfied: six>=1.5 in /usr/local/lib/python3.10/dist-packages (from python-dateutil>=2.8.2->pandas) (1.17.0)\n"
          ]
        }
      ]
    },
    {
      "cell_type": "code",
      "source": [
        "pip install matplotlib seaborn"
      ],
      "metadata": {
        "colab": {
          "base_uri": "https://localhost:8080/"
        },
        "id": "KEf9MKFqFhbE",
        "outputId": "7c8ff1fd-e253-4dcd-adb2-7dcce41c74e9"
      },
      "execution_count": null,
      "outputs": [
        {
          "output_type": "stream",
          "name": "stdout",
          "text": [
            "Requirement already satisfied: matplotlib in /usr/local/lib/python3.10/dist-packages (3.8.0)\n",
            "Requirement already satisfied: seaborn in /usr/local/lib/python3.10/dist-packages (0.13.2)\n",
            "Requirement already satisfied: contourpy>=1.0.1 in /usr/local/lib/python3.10/dist-packages (from matplotlib) (1.3.1)\n",
            "Requirement already satisfied: cycler>=0.10 in /usr/local/lib/python3.10/dist-packages (from matplotlib) (0.12.1)\n",
            "Requirement already satisfied: fonttools>=4.22.0 in /usr/local/lib/python3.10/dist-packages (from matplotlib) (4.55.3)\n",
            "Requirement already satisfied: kiwisolver>=1.0.1 in /usr/local/lib/python3.10/dist-packages (from matplotlib) (1.4.7)\n",
            "Requirement already satisfied: numpy<2,>=1.21 in /usr/local/lib/python3.10/dist-packages (from matplotlib) (1.26.4)\n",
            "Requirement already satisfied: packaging>=20.0 in /usr/local/lib/python3.10/dist-packages (from matplotlib) (24.2)\n",
            "Requirement already satisfied: pillow>=6.2.0 in /usr/local/lib/python3.10/dist-packages (from matplotlib) (11.0.0)\n",
            "Requirement already satisfied: pyparsing>=2.3.1 in /usr/local/lib/python3.10/dist-packages (from matplotlib) (3.2.0)\n",
            "Requirement already satisfied: python-dateutil>=2.7 in /usr/local/lib/python3.10/dist-packages (from matplotlib) (2.8.2)\n",
            "Requirement already satisfied: pandas>=1.2 in /usr/local/lib/python3.10/dist-packages (from seaborn) (2.2.2)\n",
            "Requirement already satisfied: pytz>=2020.1 in /usr/local/lib/python3.10/dist-packages (from pandas>=1.2->seaborn) (2024.2)\n",
            "Requirement already satisfied: tzdata>=2022.7 in /usr/local/lib/python3.10/dist-packages (from pandas>=1.2->seaborn) (2024.2)\n",
            "Requirement already satisfied: six>=1.5 in /usr/local/lib/python3.10/dist-packages (from python-dateutil>=2.7->matplotlib) (1.17.0)\n"
          ]
        }
      ]
    },
    {
      "cell_type": "code",
      "execution_count": null,
      "metadata": {
        "id": "4JQm45etGmin"
      },
      "outputs": [],
      "source": [
        "# Import necessary libraries\n",
        "import pandas as pd\n",
        "import numpy as np\n",
        "import matplotlib.pyplot as plt\n",
        "import seaborn as sns\n",
        "from sklearn.model_selection import train_test_split, GridSearchCV, cross_val_score\n",
        "from sklearn.preprocessing import StandardScaler, LabelEncoder\n",
        "from sklearn.metrics import mean_absolute_error, mean_squared_error, r2_score\n",
        "from sklearn.pipeline import Pipeline\n",
        "from sklearn.linear_model import LinearRegression\n",
        "from sklearn.ensemble import RandomForestRegressor\n",
        "from sklearn.tree import DecisionTreeRegressor\n",
        "from google.colab import files\n",
        "from sklearn.metrics import mean_absolute_error, mean_squared_error, r2_score\n",
        "import io\n",
        "import joblib\n",
        "import matplotlib.pyplot as plt\n",
        "import seaborn as sns"
      ]
    },
    {
      "cell_type": "code",
      "source": [
        "# Step 1: Upload the dataset in Google Colab\n",
        "print(\"Please upload the Excel file containing the dataset.\")\n",
        "uploaded = files.upload()"
      ],
      "metadata": {
        "colab": {
          "base_uri": "https://localhost:8080/",
          "height": 90
        },
        "id": "Jgo76cg1Jt_r",
        "outputId": "dfb732da-1ee0-4ba9-b7ef-e1b4d47e2264"
      },
      "execution_count": null,
      "outputs": [
        {
          "output_type": "stream",
          "name": "stdout",
          "text": [
            "Please upload the Excel file containing the dataset.\n"
          ]
        },
        {
          "output_type": "display_data",
          "data": {
            "text/plain": [
              "<IPython.core.display.HTML object>"
            ],
            "text/html": [
              "\n",
              "     <input type=\"file\" id=\"files-d39709f1-e138-437c-b9fc-4880de3396f4\" name=\"files[]\" multiple disabled\n",
              "        style=\"border:none\" />\n",
              "     <output id=\"result-d39709f1-e138-437c-b9fc-4880de3396f4\">\n",
              "      Upload widget is only available when the cell has been executed in the\n",
              "      current browser session. Please rerun this cell to enable.\n",
              "      </output>\n",
              "      <script>// Copyright 2017 Google LLC\n",
              "//\n",
              "// Licensed under the Apache License, Version 2.0 (the \"License\");\n",
              "// you may not use this file except in compliance with the License.\n",
              "// You may obtain a copy of the License at\n",
              "//\n",
              "//      http://www.apache.org/licenses/LICENSE-2.0\n",
              "//\n",
              "// Unless required by applicable law or agreed to in writing, software\n",
              "// distributed under the License is distributed on an \"AS IS\" BASIS,\n",
              "// WITHOUT WARRANTIES OR CONDITIONS OF ANY KIND, either express or implied.\n",
              "// See the License for the specific language governing permissions and\n",
              "// limitations under the License.\n",
              "\n",
              "/**\n",
              " * @fileoverview Helpers for google.colab Python module.\n",
              " */\n",
              "(function(scope) {\n",
              "function span(text, styleAttributes = {}) {\n",
              "  const element = document.createElement('span');\n",
              "  element.textContent = text;\n",
              "  for (const key of Object.keys(styleAttributes)) {\n",
              "    element.style[key] = styleAttributes[key];\n",
              "  }\n",
              "  return element;\n",
              "}\n",
              "\n",
              "// Max number of bytes which will be uploaded at a time.\n",
              "const MAX_PAYLOAD_SIZE = 100 * 1024;\n",
              "\n",
              "function _uploadFiles(inputId, outputId) {\n",
              "  const steps = uploadFilesStep(inputId, outputId);\n",
              "  const outputElement = document.getElementById(outputId);\n",
              "  // Cache steps on the outputElement to make it available for the next call\n",
              "  // to uploadFilesContinue from Python.\n",
              "  outputElement.steps = steps;\n",
              "\n",
              "  return _uploadFilesContinue(outputId);\n",
              "}\n",
              "\n",
              "// This is roughly an async generator (not supported in the browser yet),\n",
              "// where there are multiple asynchronous steps and the Python side is going\n",
              "// to poll for completion of each step.\n",
              "// This uses a Promise to block the python side on completion of each step,\n",
              "// then passes the result of the previous step as the input to the next step.\n",
              "function _uploadFilesContinue(outputId) {\n",
              "  const outputElement = document.getElementById(outputId);\n",
              "  const steps = outputElement.steps;\n",
              "\n",
              "  const next = steps.next(outputElement.lastPromiseValue);\n",
              "  return Promise.resolve(next.value.promise).then((value) => {\n",
              "    // Cache the last promise value to make it available to the next\n",
              "    // step of the generator.\n",
              "    outputElement.lastPromiseValue = value;\n",
              "    return next.value.response;\n",
              "  });\n",
              "}\n",
              "\n",
              "/**\n",
              " * Generator function which is called between each async step of the upload\n",
              " * process.\n",
              " * @param {string} inputId Element ID of the input file picker element.\n",
              " * @param {string} outputId Element ID of the output display.\n",
              " * @return {!Iterable<!Object>} Iterable of next steps.\n",
              " */\n",
              "function* uploadFilesStep(inputId, outputId) {\n",
              "  const inputElement = document.getElementById(inputId);\n",
              "  inputElement.disabled = false;\n",
              "\n",
              "  const outputElement = document.getElementById(outputId);\n",
              "  outputElement.innerHTML = '';\n",
              "\n",
              "  const pickedPromise = new Promise((resolve) => {\n",
              "    inputElement.addEventListener('change', (e) => {\n",
              "      resolve(e.target.files);\n",
              "    });\n",
              "  });\n",
              "\n",
              "  const cancel = document.createElement('button');\n",
              "  inputElement.parentElement.appendChild(cancel);\n",
              "  cancel.textContent = 'Cancel upload';\n",
              "  const cancelPromise = new Promise((resolve) => {\n",
              "    cancel.onclick = () => {\n",
              "      resolve(null);\n",
              "    };\n",
              "  });\n",
              "\n",
              "  // Wait for the user to pick the files.\n",
              "  const files = yield {\n",
              "    promise: Promise.race([pickedPromise, cancelPromise]),\n",
              "    response: {\n",
              "      action: 'starting',\n",
              "    }\n",
              "  };\n",
              "\n",
              "  cancel.remove();\n",
              "\n",
              "  // Disable the input element since further picks are not allowed.\n",
              "  inputElement.disabled = true;\n",
              "\n",
              "  if (!files) {\n",
              "    return {\n",
              "      response: {\n",
              "        action: 'complete',\n",
              "      }\n",
              "    };\n",
              "  }\n",
              "\n",
              "  for (const file of files) {\n",
              "    const li = document.createElement('li');\n",
              "    li.append(span(file.name, {fontWeight: 'bold'}));\n",
              "    li.append(span(\n",
              "        `(${file.type || 'n/a'}) - ${file.size} bytes, ` +\n",
              "        `last modified: ${\n",
              "            file.lastModifiedDate ? file.lastModifiedDate.toLocaleDateString() :\n",
              "                                    'n/a'} - `));\n",
              "    const percent = span('0% done');\n",
              "    li.appendChild(percent);\n",
              "\n",
              "    outputElement.appendChild(li);\n",
              "\n",
              "    const fileDataPromise = new Promise((resolve) => {\n",
              "      const reader = new FileReader();\n",
              "      reader.onload = (e) => {\n",
              "        resolve(e.target.result);\n",
              "      };\n",
              "      reader.readAsArrayBuffer(file);\n",
              "    });\n",
              "    // Wait for the data to be ready.\n",
              "    let fileData = yield {\n",
              "      promise: fileDataPromise,\n",
              "      response: {\n",
              "        action: 'continue',\n",
              "      }\n",
              "    };\n",
              "\n",
              "    // Use a chunked sending to avoid message size limits. See b/62115660.\n",
              "    let position = 0;\n",
              "    do {\n",
              "      const length = Math.min(fileData.byteLength - position, MAX_PAYLOAD_SIZE);\n",
              "      const chunk = new Uint8Array(fileData, position, length);\n",
              "      position += length;\n",
              "\n",
              "      const base64 = btoa(String.fromCharCode.apply(null, chunk));\n",
              "      yield {\n",
              "        response: {\n",
              "          action: 'append',\n",
              "          file: file.name,\n",
              "          data: base64,\n",
              "        },\n",
              "      };\n",
              "\n",
              "      let percentDone = fileData.byteLength === 0 ?\n",
              "          100 :\n",
              "          Math.round((position / fileData.byteLength) * 100);\n",
              "      percent.textContent = `${percentDone}% done`;\n",
              "\n",
              "    } while (position < fileData.byteLength);\n",
              "  }\n",
              "\n",
              "  // All done.\n",
              "  yield {\n",
              "    response: {\n",
              "      action: 'complete',\n",
              "    }\n",
              "  };\n",
              "}\n",
              "\n",
              "scope.google = scope.google || {};\n",
              "scope.google.colab = scope.google.colab || {};\n",
              "scope.google.colab._files = {\n",
              "  _uploadFiles,\n",
              "  _uploadFilesContinue,\n",
              "};\n",
              "})(self);\n",
              "</script> "
            ]
          },
          "metadata": {}
        },
        {
          "output_type": "stream",
          "name": "stdout",
          "text": [
            "Saving Rotten_Tomatoes_Movies3.xls to Rotten_Tomatoes_Movies3.xls\n"
          ]
        }
      ]
    },
    {
      "cell_type": "code",
      "source": [
        "# Load the dataset (assumes the uploaded file is an Excel file)\n",
        "file_name = list(uploaded.keys())[0]\n",
        "df = pd.read_excel(uploaded[file_name])  # Correct way to read excel\n"
      ],
      "metadata": {
        "colab": {
          "base_uri": "https://localhost:8080/"
        },
        "id": "czSjHYTcT9WI",
        "outputId": "d18bb902-f5e0-426b-9634-25810388fa49"
      },
      "execution_count": null,
      "outputs": [
        {
          "output_type": "stream",
          "name": "stderr",
          "text": [
            "<ipython-input-23-ab97c54d4fca>:3: FutureWarning: Passing bytes to 'read_excel' is deprecated and will be removed in a future version. To read from a byte string, wrap it in a `BytesIO` object.\n",
            "  df = pd.read_excel(uploaded[file_name])  # Correct way to read excel\n"
          ]
        }
      ]
    },
    {
      "cell_type": "code",
      "source": [
        "# Display basic information\n",
        "print(\"\\nDataset Overview:\\n\")\n",
        "print(df.head())"
      ],
      "metadata": {
        "colab": {
          "base_uri": "https://localhost:8080/"
        },
        "id": "dDbsenTgUTeI",
        "outputId": "0ca1befa-a334-405a-d951-791aa9725bb7"
      },
      "execution_count": null,
      "outputs": [
        {
          "output_type": "stream",
          "name": "stdout",
          "text": [
            "\n",
            "Dataset Overview:\n",
            "\n",
            "                                         movie_title  \\\n",
            "0  Percy Jackson & the Olympians: The Lightning T...   \n",
            "1                                        Please Give   \n",
            "2                                                 10   \n",
            "3                    12 Angry Men (Twelve Angry Men)   \n",
            "4                       20,000 Leagues Under The Sea   \n",
            "\n",
            "                                          movie_info  \\\n",
            "0  A teenager discovers he's the descendant of a ...   \n",
            "1  Kate has a lot on her mind. There's the ethics...   \n",
            "2  Blake Edwards' 10 stars Dudley Moore as George...   \n",
            "3  A Puerto Rican youth is on trial for murder, a...   \n",
            "4  This 1954 Disney version of Jules Verne's 20,0...   \n",
            "\n",
            "                                   critics_consensus rating  \\\n",
            "0  Though it may seem like just another Harry Pot...     PG   \n",
            "1  Nicole Holofcener's newest might seem slight i...      R   \n",
            "2                                                NaN      R   \n",
            "3  Sidney Lumet's feature debut is a superbly wri...     NR   \n",
            "4  One of Disney's finest live-action adventures,...      G   \n",
            "\n",
            "                                               genre          directors  \\\n",
            "0  Action & Adventure, Comedy, Drama, Science Fic...     Chris Columbus   \n",
            "1                                             Comedy  Nicole Holofcener   \n",
            "2                                    Comedy, Romance      Blake Edwards   \n",
            "3                                    Classics, Drama       Sidney Lumet   \n",
            "4           Action & Adventure, Drama, Kids & Family  Richard Fleischer   \n",
            "\n",
            "             writers                                               cast  \\\n",
            "0       Craig Titley  Logan Lerman, Brandon T. Jackson, Alexandra Da...   \n",
            "1  Nicole Holofcener  Catherine Keener, Amanda Peet, Oliver Platt, R...   \n",
            "2      Blake Edwards  Dudley Moore, Bo Derek, Julie Andrews, Robert ...   \n",
            "3      Reginald Rose  Martin Balsam, John Fiedler, Lee J. Cobb, E.G....   \n",
            "4        Earl Felton  James Mason, Kirk Douglas, Paul Lukas, Peter L...   \n",
            "\n",
            "  in_theaters_date on_streaming_date  runtime_in_minutes  \\\n",
            "0       2010-02-12        2010-06-29                83.0   \n",
            "1       2010-04-30        2010-10-19                90.0   \n",
            "2       1979-10-05        1997-08-27               118.0   \n",
            "3       1957-04-13        2001-03-06                95.0   \n",
            "4       1954-01-01        2003-05-20               127.0   \n",
            "\n",
            "              studio_name tomatometer_status  tomatometer_rating  \\\n",
            "0        20th Century Fox             Rotten                  49   \n",
            "1  Sony Pictures Classics    Certified Fresh                  86   \n",
            "2             Waner Bros.              Fresh                  68   \n",
            "3    Criterion Collection    Certified Fresh                 100   \n",
            "4                  Disney              Fresh                  89   \n",
            "\n",
            "   tomatometer_count  audience_rating  \n",
            "0                144             53.0  \n",
            "1                140             64.0  \n",
            "2                 22             53.0  \n",
            "3                 51             97.0  \n",
            "4                 27             74.0  \n"
          ]
        }
      ]
    },
    {
      "cell_type": "code",
      "source": [
        "print(\"\\nStatistical Summary:\\n\")\n",
        "print(df.describe())"
      ],
      "metadata": {
        "colab": {
          "base_uri": "https://localhost:8080/"
        },
        "id": "BTUsByXyq0n5",
        "outputId": "985b3ae6-c0cf-42ac-f196-d54802ff59aa"
      },
      "execution_count": null,
      "outputs": [
        {
          "output_type": "stream",
          "name": "stdout",
          "text": [
            "\n",
            "Statistical Summary:\n",
            "\n",
            "                    in_theaters_date              on_streaming_date  \\\n",
            "count                          15823                          16636   \n",
            "mean   1999-10-24 22:10:52.973519488  2008-08-13 13:35:49.266650624   \n",
            "min              1914-06-01 00:00:00            1935-06-06 00:00:00   \n",
            "25%              1993-03-29 00:00:00            2003-01-28 00:00:00   \n",
            "50%              2006-08-04 00:00:00            2008-04-08 00:00:00   \n",
            "75%              2013-06-28 00:00:00            2014-05-12 00:00:00   \n",
            "max              2019-12-07 00:00:00            2019-11-01 00:00:00   \n",
            "std                              NaN                            NaN   \n",
            "\n",
            "       runtime_in_minutes  tomatometer_rating  tomatometer_count  \\\n",
            "count        16483.000000        16638.000000       16638.000000   \n",
            "mean           102.391494           60.466522          56.607104   \n",
            "min              1.000000            0.000000           5.000000   \n",
            "25%             90.000000           38.000000          12.000000   \n",
            "50%             99.000000           66.000000          28.000000   \n",
            "75%            111.000000           86.000000          76.000000   \n",
            "max           2000.000000          100.000000         497.000000   \n",
            "std             25.028011           28.587230          66.383800   \n",
            "\n",
            "       audience_rating  \n",
            "count     16386.000000  \n",
            "mean         60.470829  \n",
            "min           0.000000  \n",
            "25%          45.000000  \n",
            "50%          62.000000  \n",
            "75%          77.000000  \n",
            "max         100.000000  \n",
            "std          20.462368  \n"
          ]
        }
      ]
    },
    {
      "cell_type": "code",
      "source": [
        "# Check for null values and summary statistics\n",
        "print(\"\\nMissing Values:\\n\")\n",
        "print(df.isnull().sum())"
      ],
      "metadata": {
        "colab": {
          "base_uri": "https://localhost:8080/"
        },
        "id": "KRc6o6TBa-vR",
        "outputId": "38bc7130-c644-4b2e-83ca-77d1beb172ef"
      },
      "execution_count": null,
      "outputs": [
        {
          "output_type": "stream",
          "name": "stdout",
          "text": [
            "\n",
            "Missing Values:\n",
            "\n",
            "movie_title              0\n",
            "movie_info              24\n",
            "critics_consensus     8329\n",
            "rating                   0\n",
            "genre                   17\n",
            "directors              114\n",
            "writers               1349\n",
            "cast                   284\n",
            "in_theaters_date       815\n",
            "on_streaming_date        2\n",
            "runtime_in_minutes     155\n",
            "studio_name            416\n",
            "tomatometer_status       0\n",
            "tomatometer_rating       0\n",
            "tomatometer_count        0\n",
            "audience_rating        252\n",
            "dtype: int64\n"
          ]
        }
      ]
    },
    {
      "cell_type": "code",
      "source": [
        "print(\"\\nStatistical Summary:\\n\")\n",
        "print(df.describe())"
      ],
      "metadata": {
        "colab": {
          "base_uri": "https://localhost:8080/"
        },
        "id": "Uwk6Ffqeqt7x",
        "outputId": "43c53088-7434-4e31-e603-83d7a8b0b1f4"
      },
      "execution_count": null,
      "outputs": [
        {
          "output_type": "stream",
          "name": "stdout",
          "text": [
            "\n",
            "Statistical Summary:\n",
            "\n",
            "                    in_theaters_date              on_streaming_date  \\\n",
            "count                          15823                          16636   \n",
            "mean   1999-10-24 22:10:52.973519488  2008-08-13 13:35:49.266650624   \n",
            "min              1914-06-01 00:00:00            1935-06-06 00:00:00   \n",
            "25%              1993-03-29 00:00:00            2003-01-28 00:00:00   \n",
            "50%              2006-08-04 00:00:00            2008-04-08 00:00:00   \n",
            "75%              2013-06-28 00:00:00            2014-05-12 00:00:00   \n",
            "max              2019-12-07 00:00:00            2019-11-01 00:00:00   \n",
            "std                              NaN                            NaN   \n",
            "\n",
            "       runtime_in_minutes  tomatometer_rating  tomatometer_count  \\\n",
            "count        16483.000000        16638.000000       16638.000000   \n",
            "mean           102.391494           60.466522          56.607104   \n",
            "min              1.000000            0.000000           5.000000   \n",
            "25%             90.000000           38.000000          12.000000   \n",
            "50%             99.000000           66.000000          28.000000   \n",
            "75%            111.000000           86.000000          76.000000   \n",
            "max           2000.000000          100.000000         497.000000   \n",
            "std             25.028011           28.587230          66.383800   \n",
            "\n",
            "       audience_rating  \n",
            "count     16386.000000  \n",
            "mean         60.470829  \n",
            "min           0.000000  \n",
            "25%          45.000000  \n",
            "50%          62.000000  \n",
            "75%          77.000000  \n",
            "max         100.000000  \n",
            "std          20.462368  \n"
          ]
        }
      ]
    },
    {
      "cell_type": "code",
      "source": [
        "# Visualize target variable distribution\n",
        "if 'audience_rating' in df.columns:\n",
        "    sns.histplot(df['audience_rating'], bins=30, kde=True)\n",
        "    plt.title('Distribution of Audience Rating')\n",
        "    plt.show()\n",
        "else:\n",
        "    raise ValueError(\"The target variable 'audience_rating' is not in the dataset.\")\n"
      ],
      "metadata": {
        "colab": {
          "base_uri": "https://localhost:8080/",
          "height": 472
        },
        "id": "oPqkVToDUXSH",
        "outputId": "3d0c89cd-d041-490f-b2f4-7576946de24d"
      },
      "execution_count": null,
      "outputs": [
        {
          "output_type": "display_data",
          "data": {
            "text/plain": [
              "<Figure size 640x480 with 1 Axes>"
            ],
            "image/png": "[encoded data removed]"
          },
          "metadata": {}
        }
      ]
    },
    {
      "cell_type": "code",
      "source": [
        "# Step 3: Data Preprocessing\n",
        "# Handle missing values (e.g., drop or impute)\n",
        "df = df.dropna()  # Drop rows with missing values\n",
        "\n",
        "# Convert DateTime columns to numeric features (if any)\n",
        "datetime_cols = df.select_dtypes(include=['datetime64']).columns\n",
        "for col in datetime_cols:\n",
        "    df[col] = df[col].astype(np.int64)  # Convert to Unix timestamp (numeric format)\n",
        "\n",
        "# Encode categorical features\n",
        "label_encoders = {}\n",
        "categorical_cols = df.select_dtypes(include=['object']).columns\n",
        "for col in categorical_cols:\n",
        "    le = LabelEncoder()\n",
        "    df[col] = le.fit_transform(df[col])\n",
        "    label_encoders[col] = le\n",
        "\n",
        "# Feature-target split\n",
        "X = df.drop(columns=['audience_rating'])\n",
        "y = df['audience_rating']\n",
        "\n",
        "# Train-test split\n",
        "X_train, X_test, y_train, y_test = train_test_split(X, y, test_size=0.2, random_state=42)\n"
      ],
      "metadata": {
        "id": "SencU_HlYYxD"
      },
      "execution_count": null,
      "outputs": []
    },
    {
      "source": [
        "# Step 3: Data Preprocessing\n",
        "# Handle missing values (e.g., drop or impute)\n",
        "df = df.dropna()  # Drop rows with missing values\n",
        "\n",
        "# Convert DateTime columns to numeric features (if any)\n",
        "#datetime_cols = df.select_dtypes(include=['datetime64']).columns #Original line\n",
        "datetime_cols = df.select_dtypes(include=['datetime64[ns]']).columns #Updated line to specify nanosecond precision\n",
        "for col in datetime_cols:\n",
        "    df[col] = df[col].astype(np.int64)  # Convert to Unix timestamp (numeric format)\n",
        "\n",
        "# Encode categorical features\n",
        "label_encoders = {}\n",
        "categorical_cols = df.select_dtypes(include=['object']).columns\n",
        "for col in categorical_cols:\n",
        "    # Check if the column contains mixed types and convert to string if necessary\n",
        "    if df[col].apply(type).nunique() > 1:  # Check for multiple types\n",
        "        df[col] = df[col].astype(str)  # Convert all values to strings\n",
        "\n",
        "    le = LabelEncoder()\n",
        "    df[col] = le.fit_transform(df[col])\n",
        "    label_encoders[col] = le\n",
        "\n",
        "# Feature-target split\n",
        "X = df.drop(columns=['audience_rating'])\n",
        "y = df['audience_rating']\n",
        "\n",
        "# Train-test split\n",
        "X_train, X_test, y_train, y_test = train_test_split(X, y, test_size=0.2, random_state=42)"
      ],
      "cell_type": "code",
      "metadata": {
        "id": "L3FjdBo0LGBM"
      },
      "execution_count": null,
      "outputs": []
    },
    {
      "cell_type": "code",
      "source": [
        "# Step 4: Model Selection and Training\n",
        "from sklearn.metrics import mean_absolute_error, mean_squared_error, r2_score\n",
        "\n",
        "# Define the models to evaluate\n",
        "models = {\n",
        "    'Linear Regression': LinearRegression(),\n",
        "    'Decision Tree': DecisionTreeRegressor(random_state=42),\n",
        "    'Random Forest': RandomForestRegressor(n_estimators=100, random_state=42)\n",
        "}\n",
        "\n",
        "# Initialize a dictionary to store evaluation results\n",
        "evaluation_results = {}\n",
        "\n",
        "# Evaluate models\n",
        "print(\"\\nModel Performance:\")\n",
        "for name, model in models.items():\n",
        "    try:\n",
        "        # Fit the model to the training data\n",
        "        model.fit(X_train, y_train)\n",
        "\n",
        "        # Make predictions on the test set\n",
        "        y_pred = model.predict(X_test)\n",
        "\n",
        "        # Calculate the evaluation metrics\n",
        "        mae = mean_absolute_error(y_test, y_pred)\n",
        "        mse = mean_squared_error(y_test, y_pred)\n",
        "        r2 = r2_score(y_test, y_pred)\n",
        "\n",
        "        # Store the results in the dictionary\n",
        "        evaluation_results[name] = {\n",
        "            'MAE': mae,\n",
        "            'MSE': mse,\n",
        "            'R2 Score': r2\n",
        "        }\n",
        "\n",
        "        # Print the performance of each model\n",
        "        print(f\"{name} Performance:\")\n",
        "        print(f\" MAE: {mae:.4f}, MSE: {mse:.4f}, R2 Score: {r2:.4f}\\n\")\n",
        "\n",
        "    except Exception as e:\n",
        "        # Handle any errors that occur during fitting or prediction\n",
        "        print(f\"Error with model {name}: {e}\")\n",
        "\n",
        "# Optional: Show evaluation results in a DataFrame for better clarity\n",
        "evaluation_df = pd.DataFrame(evaluation_results)\n",
        "print(\"\\nModel Evaluation Summary:\")\n",
        "print(evaluation_df)\n"
      ],
      "metadata": {
        "colab": {
          "base_uri": "https://localhost:8080/"
        },
        "id": "C4l4uwWKYf_a",
        "outputId": "e3662cae-3f1f-4e1e-f636-84c6a36ec96f"
      },
      "execution_count": null,
      "outputs": [
        {
          "output_type": "stream",
          "name": "stdout",
          "text": [
            "\n",
            "Model Performance:\n",
            "Linear Regression Performance:\n",
            " MAE: 15.7800, MSE: 356.6930, R2 Score: 0.0623\n",
            "\n",
            "Decision Tree Performance:\n",
            " MAE: 13.1564, MSE: 291.6124, R2 Score: 0.2334\n",
            "\n",
            "Random Forest Performance:\n",
            " MAE: 9.8543, MSE: 158.3718, R2 Score: 0.5837\n",
            "\n",
            "\n",
            "Model Evaluation Summary:\n",
            "          Linear Regression  Decision Tree  Random Forest\n",
            "MAE               15.780037      13.156373       9.854343\n",
            "MSE              356.693027     291.612352     158.371835\n",
            "R2 Score           0.062338       0.233420       0.583678\n"
          ]
        }
      ]
    },
    {
      "cell_type": "code",
      "source": [
        "# Step 5: Hyperparameter Tuning for Random Forest\n",
        "param_grid = {\n",
        "    'n_estimators': [50, 100, 150],\n",
        "    'max_depth': [None, 10, 20, 30],\n",
        "    'min_samples_split': [2, 5, 10]\n",
        "}"
      ],
      "metadata": {
        "id": "LvBJEkBYc-t4"
      },
      "execution_count": null,
      "outputs": []
    },
    {
      "cell_type": "code",
      "source": [
        "grid_search = GridSearchCV(RandomForestRegressor(random_state=42), param_grid, cv=5, scoring='r2')\n",
        "grid_search.fit(X_train, y_train)\n",
        "\n",
        "print(\"Best Hyperparameters for Random Forest:\", grid_search.best_params_)"
      ],
      "metadata": {
        "colab": {
          "base_uri": "https://localhost:8080/"
        },
        "id": "SAjtKKcIZhTS",
        "outputId": "265e22de-0eb4-4b4f-985e-cb3f428688d6"
      },
      "execution_count": null,
      "outputs": [
        {
          "output_type": "stream",
          "name": "stdout",
          "text": [
            "Best Hyperparameters for Random Forest: {'max_depth': 10, 'min_samples_split': 10, 'n_estimators': 150}\n"
          ]
        }
      ]
    },
    {
      "cell_type": "code",
      "source": [
        "# Final Model Evaluation\n",
        "best_rf = grid_search.best_estimator_\n",
        "y_pred_final = best_rf.predict(X_test)\n",
        "print(\"\\nFinal Model Performance:\")\n",
        "print(\"MAE:\", mean_absolute_error(y_test, y_pred_final))\n",
        "print(\"MSE:\", mean_squared_error(y_test, y_pred_final))\n",
        "print(\"R2 Score:\", r2_score(y_test, y_pred_final))"
      ],
      "metadata": {
        "colab": {
          "base_uri": "https://localhost:8080/"
        },
        "id": "w2yhUZZdgsHn",
        "outputId": "63883c77-c56c-4404-e189-638d780a45f4"
      },
      "execution_count": null,
      "outputs": [
        {
          "output_type": "stream",
          "name": "stdout",
          "text": [
            "\n",
            "Final Model Performance:\n",
            "MAE: 9.799187002613479\n",
            "MSE: 156.85119099456844\n",
            "R2 Score: 0.5876750780708746\n"
          ]
        }
      ]
    },
    {
      "cell_type": "code",
      "source": [
        "# Step 6: Pipeline Creation\n",
        "pipeline = Pipeline([\n",
        "    ('scaler', StandardScaler()),\n",
        "    ('model', RandomForestRegressor(**grid_search.best_params_, random_state=42))\n",
        "])\n",
        "\n",
        "pipeline.fit(X_train, y_train)\n",
        "final_predictions = pipeline.predict(X_test)\n",
        "print(\"Pipeline R2 Score:\", r2_score(y_test, final_predictions))"
      ],
      "metadata": {
        "colab": {
          "base_uri": "https://localhost:8080/"
        },
        "id": "mOt2ctHXg8C9",
        "outputId": "1a425ef1-1449-4991-eec6-cffd3822ebb3"
      },
      "execution_count": null,
      "outputs": [
        {
          "output_type": "stream",
          "name": "stdout",
          "text": [
            "Pipeline R2 Score: 0.5876653907641641\n"
          ]
        }
      ]
    },
    {
      "cell_type": "code",
      "source": [
        "# Step 7: Predict 'audience_rating' for the existing data (same dataset)\n",
        "# Preprocess the same dataset for prediction (using the same preprocessing steps as for training data)\n",
        "df_preprocessed = df.copy()"
      ],
      "metadata": {
        "id": "u4TyhaG-or1z"
      },
      "execution_count": null,
      "outputs": []
    },
    {
      "cell_type": "code",
      "source": [
        "# Step 7.1: Apply the same LabelEncoding for categorical features in the dataset\n",
        "for col in categorical_cols:\n",
        "    if col in df_preprocessed.columns:\n",
        "        # Ensure the label encoder was created during training, then apply the same transformation to the data\n",
        "        df_preprocessed[col] = label_encoders[col].transform(df_preprocessed[col])"
      ],
      "metadata": {
        "id": "dU3Hd7C4o3v6"
      },
      "execution_count": null,
      "outputs": []
    },
    {
      "source": [
        "# Step 7.1: Apply the same LabelEncoding for categorical features in the dataset\n",
        "for col in categorical_cols:\n",
        "    if col in df_preprocessed.columns:\n",
        "        # Instead of directly transforming, handle unseen labels\n",
        "        try:\n",
        "            df_preprocessed[col] = label_encoders[col].transform(df_preprocessed[col])\n",
        "        except ValueError as e:\n",
        "            # Handle unseen labels (e.g., assign a default value or ignore)\n",
        "            # Here, we'll replace unseen labels with a placeholder value like -1\n",
        "            unseen_mask = ~df_preprocessed[col].isin(label_encoders[col].classes_)\n",
        "            df_preprocessed.loc[unseen_mask, col] = -1\n",
        "            print(f\"Warning: Unseen labels in '{col}' replaced with -1.\")"
      ],
      "cell_type": "code",
      "metadata": {
        "id": "vwRjlmOePtOk"
      },
      "execution_count": null,
      "outputs": []
    },
    {
      "cell_type": "code",
      "source": [
        "# Step 7.2: Drop any remaining rows with missing values (if any) from the dataset\n",
        "df_preprocessed = df_preprocessed.dropna()"
      ],
      "metadata": {
        "id": "6REjWgn0pAtT"
      },
      "execution_count": null,
      "outputs": []
    },
    {
      "cell_type": "code",
      "source": [
        "# Step 7.3: Ensure all features in df_preprocessed are numeric\n",
        "# Check if any column is still object or string type after encoding, which should no longer be the case\n",
        "print(df_preprocessed.dtypes)"
      ],
      "metadata": {
        "colab": {
          "base_uri": "https://localhost:8080/"
        },
        "id": "Rga9TDXppHdS",
        "outputId": "910f02ef-1a14-46ce-9416-d5bcc95e6ac9"
      },
      "execution_count": null,
      "outputs": [
        {
          "output_type": "stream",
          "name": "stdout",
          "text": [
            "movie_title                    int64\n",
            "movie_info                     int64\n",
            "critics_consensus              int64\n",
            "rating                         int64\n",
            "genre                          int64\n",
            "directors                      int64\n",
            "writers                        int64\n",
            "cast                           int64\n",
            "in_theaters_date               int64\n",
            "on_streaming_date              int64\n",
            "runtime_in_minutes           float64\n",
            "studio_name                    int64\n",
            "tomatometer_status             int64\n",
            "tomatometer_rating             int64\n",
            "tomatometer_count              int64\n",
            "audience_rating              float64\n",
            "predicted_audience_rating    float64\n",
            "dtype: object\n"
          ]
        }
      ]
    },
    {
      "source": [
        "# Step 7.4: Use the trained pipeline to predict 'audience_rating' for the preprocessed dataset\n",
        "# Remove the target variable from the prediction data\n",
        "X_preprocessed = df_preprocessed.drop(columns=['audience_rating'])\n",
        "predictions = pipeline.predict(X_preprocessed)"
      ],
      "cell_type": "code",
      "metadata": {
        "id": "JYznWGAwpqG7"
      },
      "execution_count": null,
      "outputs": []
    },
    {
      "cell_type": "code",
      "source": [
        "# Step 7.5: Add predictions to the original dataframe as a new column\n",
        "df['predicted_audience_rating'] = predictions"
      ],
      "metadata": {
        "id": "ogQAB6T5pt_6"
      },
      "execution_count": null,
      "outputs": []
    },
    {
      "cell_type": "code",
      "source": [
        "# Step 7.6: Display predictions for the 'audience_rating' column in the dataset\n",
        "print(\"\\nPredicted 'audience_rating' for the existing dataset:\")\n",
        "print(df[['audience_rating', 'predicted_audience_rating']].head())"
      ],
      "metadata": {
        "colab": {
          "base_uri": "https://localhost:8080/"
        },
        "id": "fpNe22vXqDfU",
        "outputId": "e259a8fd-f065-4ca3-dd9c-7fc142e695f1"
      },
      "execution_count": null,
      "outputs": [
        {
          "output_type": "stream",
          "name": "stdout",
          "text": [
            "\n",
            "Predicted 'audience_rating' for the existing dataset:\n",
            "   audience_rating  predicted_audience_rating\n",
            "0             53.0                  48.960283\n",
            "1             64.0                  69.812866\n",
            "3             97.0                  92.819065\n",
            "4             74.0                  79.094137\n",
            "5             37.0                  39.482731\n"
          ]
        }
      ]
    },
    {
      "cell_type": "code",
      "source": [
        "# Step 8: Save the Pipeline for Future Use (Optional, if you want to save the trained pipeline)\n",
        "pipeline_filename = 'audience_rating_pipeline.pkl'\n",
        "joblib.dump(pipeline, pipeline_filename)\n",
        "print(f\"Pipeline saved as {pipeline_filename}\")\n"
      ],
      "metadata": {
        "colab": {
          "base_uri": "https://localhost:8080/"
        },
        "id": "XfK0nsK8qHli",
        "outputId": "9af9cc64-b987-4833-89f3-9b5878e90759"
      },
      "execution_count": null,
      "outputs": [
        {
          "output_type": "stream",
          "name": "stdout",
          "text": [
            "Pipeline saved as audience_rating_pipeline.pkl\n"
          ]
        }
      ]
    },
    {
      "cell_type": "code",
      "source": [
        "# Step 9: Validate Model Accuracy on Test Set (using the original data)\n",
        "print(\"\\nFinal Model Accuracy Validation (on the test set):\")\n",
        "print(\"R2 Score on Test Set:\", r2_score(y_test, final_predictions))\n",
        "print(\"MAE on Test Set:\", mean_absolute_error(y_test, final_predictions))\n",
        "print(\"MSE on Test Set:\", mean_squared_error(y_test, final_predictions))\n",
        "\n",
        "# Conclusion\n",
        "print(\"\\nProject Completed Successfully! Use the saved pipeline for future predictions.\")"
      ],
      "metadata": {
        "colab": {
          "base_uri": "https://localhost:8080/"
        },
        "id": "nJEnhVB3p0ca",
        "outputId": "18755339-c866-470e-80a0-2363aa9f3d90"
      },
      "execution_count": null,
      "outputs": [
        {
          "output_type": "stream",
          "name": "stdout",
          "text": [
            "\n",
            "Final Model Accuracy Validation (on the test set):\n",
            "R2 Score on Test Set: 0.5876653907641641\n",
            "MAE on Test Set: 9.800215142791721\n",
            "MSE on Test Set: 156.85487611160661\n",
            "\n",
            "Project Completed Successfully! Use the saved pipeline for future predictions.\n"
          ]
        }
      ]
    }
  ]
}